{
  "nbformat": 4,
  "nbformat_minor": 0,
  "metadata": {
    "colab": {
      "provenance": []
    },
    "kernelspec": {
      "name": "python3",
      "display_name": "Python 3"
    },
    "language_info": {
      "name": "python"
    }
  },
  "cells": [
    {
      "cell_type": "code",
      "execution_count": null,
      "metadata": {
        "id": "9Ld_SrmiAQbB"
      },
      "outputs": [],
      "source": [
        "# What is the primary goal of Object-Oriented Programming (OOP)?"
      ]
    },
    {
      "cell_type": "code",
      "source": [
        "# the primary goal of Object-Oriented Programming (OOP) is to structure\n",
        "# code by representing real-world objects as software objects.\n",
        "# It aims to promote modular, reusable, and maintainable code through\n",
        "# encapsulation, inheritance, and polymorphism."
      ],
      "metadata": {
        "id": "PL9ORrqEApwj"
      },
      "execution_count": null,
      "outputs": []
    },
    {
      "cell_type": "code",
      "source": [
        "#  What is an object in Python?"
      ],
      "metadata": {
        "id": "g3ZYwRJ2AppP"
      },
      "execution_count": null,
      "outputs": []
    },
    {
      "cell_type": "code",
      "source": [
        "# an object in Python is like a container that holds both data\n",
        "# and the functions that work with that data.\n",
        "# It's a way to represent a real-world thing or concept in your code.\n",
        "# Objects have characteristics (data) and behaviors (functions), and\n",
        "# they can be created from predefined classes or custom classes you define.\n",
        "# Objects allow you to organize and manipulate data in a structured\n",
        "# and reusable manner."
      ],
      "metadata": {
        "id": "VsuH075jApmB"
      },
      "execution_count": null,
      "outputs": []
    },
    {
      "cell_type": "code",
      "source": [
        "# What is a class in Python?"
      ],
      "metadata": {
        "id": "aCAOaw_SApih"
      },
      "execution_count": null,
      "outputs": []
    },
    {
      "cell_type": "code",
      "source": [
        "#  a class in Python is a blueprint or template that defines\n",
        "#  the attributes (data) and behaviors (methods) of objects.\n",
        "#  It serves as a foundation for creating multiple instances\n",
        "#   (objects) with similar properties and functionalities."
      ],
      "metadata": {
        "id": "R2EC7CfqApc7"
      },
      "execution_count": null,
      "outputs": []
    },
    {
      "cell_type": "code",
      "source": [
        "# eg:\n",
        "class Car:\n",
        "    def __init__(self, brand, color):\n",
        "        self.brand = brand\n",
        "        self.color = color\n",
        "\n",
        "    def start_engine(self):\n",
        "        print(\"The car's engine is starting.\")\n",
        "\n",
        "    def drive(self, distance):\n",
        "        print(f\"The {self.color} {self.brand} is driving {distance} kilometers.\")\n"
      ],
      "metadata": {
        "id": "TbY2MT1GApaX"
      },
      "execution_count": 1,
      "outputs": []
    },
    {
      "cell_type": "code",
      "source": [
        "my_car = Car(\"Toyota\", \"blue\")\n"
      ],
      "metadata": {
        "id": "Lz_yWtQqApTH"
      },
      "execution_count": 2,
      "outputs": []
    },
    {
      "cell_type": "code",
      "source": [
        "# What are attributes and methods in a class?"
      ],
      "metadata": {
        "id": "-eY4yNS4COob"
      },
      "execution_count": null,
      "outputs": []
    },
    {
      "cell_type": "code",
      "source": [
        "# attributes are variables that store data related to a class or object,\n",
        "# representing its characteristics or state. Methods, on the other hand,\n",
        "# are functions associated with a class or object that define its behavior or actions.\n",
        "# Attributes hold data, and methods perform operations on that data."
      ],
      "metadata": {
        "id": "dXWedzARC11s"
      },
      "execution_count": null,
      "outputs": []
    },
    {
      "cell_type": "code",
      "source": [
        "# What is the difference between class variables and instance variables in Python?"
      ],
      "metadata": {
        "id": "u8FluiKOC1xZ"
      },
      "execution_count": null,
      "outputs": []
    },
    {
      "cell_type": "code",
      "source": [
        "\n",
        "# - Class variables are shared among all instances of a class and are defined\n",
        "# outside of any methods. They store data that is common to all objects of the class.\n",
        "\n",
        "# - Instance variables are specific to each instance of a class and are defined\n",
        "# within methods, typically within the `__init__` method. They hold data that\n",
        "# varies from object to object."
      ],
      "metadata": {
        "id": "F79fDObqC1vL"
      },
      "execution_count": null,
      "outputs": []
    },
    {
      "cell_type": "code",
      "source": [
        "# What is the purpose of the self parameter in Python class methods?"
      ],
      "metadata": {
        "id": "zv8C0uExC1qy"
      },
      "execution_count": null,
      "outputs": []
    },
    {
      "cell_type": "code",
      "source": [
        "# the `self` parameter in Python class methods refers to the instance\n",
        "# of the class and allows methods to access and modify the instance's attributes.\n",
        "# It enables methods to operate on the specific instance they are called on."
      ],
      "metadata": {
        "id": "f0soDoJeC1o2"
      },
      "execution_count": null,
      "outputs": []
    },
    {
      "cell_type": "code",
      "source": [
        "# For a library management system, you have to design the \"Book\" class with OOP\n",
        "# principles in mind. The “Book” class will have following attributes:\n",
        "# a. title: Represents the title of the book.\n",
        "# b. author: Represents the author(s) of the book.\n",
        "# c. isbn: Represents the ISBN (International Standard Book Number) of the book.\n",
        "# d. publication_year: Represents the year of publication of the book.\n",
        "# e. available_copies: Represents the number of copies available for checkout.\n",
        "# The class will also include the following methods:\n",
        "# a. check_out(self): Decrements the available copies by one if there are copies\n",
        "# available for checkout.\n",
        "# b. return_book(self): Increments the available copies by one when a book is\n",
        "# returned.\n",
        "# c. display_book_info(self): Displays the information about the book, including its\n",
        "# attributes and the number of available copies.\n"
      ],
      "metadata": {
        "id": "y3zKszUAC1l5"
      },
      "execution_count": null,
      "outputs": []
    },
    {
      "cell_type": "code",
      "source": [
        "class Book:\n",
        "    def __init__(self, title, author, isbn, publication_year, available_copies):\n",
        "        self.title = title\n",
        "        self.author = author\n",
        "        self.isbn = isbn\n",
        "        self.publication_year = publication_year\n",
        "        self.available_copies = available_copies\n",
        "\n",
        "    def check_out(self):\n",
        "        if self.available_copies > 0:\n",
        "            self.available_copies -= 1\n",
        "            print(f\"A copy of '{self.title}' has been checked out.\")\n",
        "        else:\n",
        "            print(f\"No copies of '{self.title}' are currently available.\")\n",
        "\n",
        "    def return_book(self):\n",
        "        self.available_copies += 1\n",
        "        print(f\"A copy of '{self.title}' has been returned.\")\n",
        "\n",
        "    def display_book_info(self):\n",
        "        print(f\"Title: {self.title}\")\n",
        "        print(f\"Author(s): {self.author}\")\n",
        "        print(f\"ISBN: {self.isbn}\")\n",
        "        print(f\"Publication Year: {self.publication_year}\")\n",
        "        print(f\"Available Copies: {self.available_copies}\")\n"
      ],
      "metadata": {
        "id": "f09JYADkC1jF"
      },
      "execution_count": 3,
      "outputs": []
    },
    {
      "cell_type": "code",
      "source": [
        "book1 = Book(\"The Great Gatsby\", \"F. Scott Fitzgerald\", \"9780743273565\", 1925, 3)\n",
        "\n",
        "book1.display_book_info()\n",
        "\n",
        "book1.check_out()"
      ],
      "metadata": {
        "colab": {
          "base_uri": "https://localhost:8080/"
        },
        "id": "JTFF1-YOC1f-",
        "outputId": "19feb95c-cac7-40af-a6af-0d9156fabd54"
      },
      "execution_count": 4,
      "outputs": [
        {
          "output_type": "stream",
          "name": "stdout",
          "text": [
            "Title: The Great Gatsby\n",
            "Author(s): F. Scott Fitzgerald\n",
            "ISBN: 9780743273565\n",
            "Publication Year: 1925\n",
            "Available Copies: 3\n",
            "A copy of 'The Great Gatsby' has been checked out.\n"
          ]
        }
      ]
    },
    {
      "cell_type": "code",
      "source": [
        "# For a ticket booking system, you have to design the \"Ticket\" class with OOP\n",
        "# principles in mind. The “Ticket” class should have the following attributes:\n",
        "# a. ticket_id: Represents the unique identifier for the ticket.\n",
        "# b. event_name: Represents the name of the event.\n",
        "# c. event_date: Represents the date of the event.\n",
        "# d. venue: Represents the venue of the event.\n",
        "# e. seat_number: Represents the seat number associated with the ticket.\n",
        "# f. price: Represents the price of the ticket.\n",
        "# g. is_reserved: Represents the reservation status of the ticket.\n",
        "# The class also includes the following methods:\n",
        "# a. reserve_ticket(self): Marks the ticket as reserved if it is not already reserved.\n",
        "# b. cancel_reservation(self): Cancels the reservation of the ticket if it is already\n",
        "# reserved.\n",
        "# c. display_ticket_info(self): Displays the information about the ticket, including its\n",
        "# attributes and reservation status."
      ],
      "metadata": {
        "id": "FW26kEH2C1de"
      },
      "execution_count": null,
      "outputs": []
    },
    {
      "cell_type": "code",
      "source": [
        "class Ticket:\n",
        "    def __init__(self, ticket_id, event_name, event_date, venue, seat_number, price):\n",
        "        self.ticket_id = ticket_id\n",
        "        self.event_name = event_name\n",
        "        self.event_date = event_date\n",
        "        self.venue = venue\n",
        "        self.seat_number = seat_number\n",
        "        self.price = price\n",
        "        self.is_reserved = False\n",
        "\n",
        "    def reserve_ticket(self):\n",
        "        if not self.is_reserved:\n",
        "            self.is_reserved = True\n",
        "            print(\"Ticket reserved successfully.\")\n",
        "        else:\n",
        "            print(\"Ticket is already reserved.\")\n",
        "\n",
        "    def cancel_reservation(self):\n",
        "        if self.is_reserved:\n",
        "            self.is_reserved = False\n",
        "            print(\"Reservation canceled successfully.\")\n",
        "        else:\n",
        "            print(\"Ticket is not reserved.\")\n",
        "\n",
        "    def display_ticket_info(self):\n",
        "        print(f\"Ticket ID: {self.ticket_id}\")\n",
        "        print(f\"Event Name: {self.event_name}\")\n",
        "        print(f\"Event Date: {self.event_date}\")\n",
        "        print(f\"Venue: {self.venue}\")\n",
        "        print(f\"Seat Number: {self.seat_number}\")\n",
        "        print(f\"Price: {self.price}\")\n",
        "        print(f\"Reservation Status: {'Reserved' if self.is_reserved else 'Not Reserved'}\")\n"
      ],
      "metadata": {
        "id": "-qcAf4wrC1Zp"
      },
      "execution_count": 5,
      "outputs": []
    },
    {
      "cell_type": "code",
      "source": [
        "\n",
        "ticket1 = Ticket(1, \"Concert\", \"2023-07-15\", \"ABC Stadium\", \"A12\", 50.00)\n",
        "\n",
        "ticket1.display_ticket_info()\n",
        "\n",
        "ticket1.reserve_ticket()\n",
        "\n",
        "\n"
      ],
      "metadata": {
        "colab": {
          "base_uri": "https://localhost:8080/"
        },
        "id": "3vK73EMiC1Xd",
        "outputId": "defd6940-4aff-4f05-cd28-c7b06501738a"
      },
      "execution_count": 6,
      "outputs": [
        {
          "output_type": "stream",
          "name": "stdout",
          "text": [
            "Ticket ID: 1\n",
            "Event Name: Concert\n",
            "Event Date: 2023-07-15\n",
            "Venue: ABC Stadium\n",
            "Seat Number: A12\n",
            "Price: 50.0\n",
            "Reservation Status: Not Reserved\n",
            "Ticket reserved successfully.\n"
          ]
        }
      ]
    },
    {
      "cell_type": "code",
      "source": [
        "# You are creating a shopping cart for an e-commerce website. Using OOP to model\n",
        "# the \"ShoppingCart\" functionality the class should contain following attributes and\n",
        "# methods:\n",
        "# a. items: Represents the list of items in the shopping cart.\n",
        "# The class also includes the following methods:\n",
        "# a. add_item(self, item): Adds an item to the shopping cart by appending it to the\n",
        "# list of items.\n",
        "# b. remove_item(self, item): Removes an item from the shopping cart if it exists in\n",
        "# the list.\n",
        "# c. view_cart(self): Displays the items currently present in the shopping cart.\n",
        "# d. clear_cart(self): Clears all items from the shopping cart by reassigning an\n",
        "# empty list to the items attribute."
      ],
      "metadata": {
        "id": "0aoD12kCC1Tk"
      },
      "execution_count": null,
      "outputs": []
    },
    {
      "cell_type": "code",
      "source": [
        "class ShoppingCart:\n",
        "    def __init__(self):\n",
        "        self.items = []\n",
        "\n",
        "    def add_item(self, item):\n",
        "        self.items.append(item)\n",
        "        print(f\"{item} added to the shopping cart.\")\n",
        "\n",
        "    def remove_item(self, item):\n",
        "        if item in self.items:\n",
        "            self.items.remove(item)\n",
        "            print(f\"{item} removed from the shopping cart.\")\n",
        "        else:\n",
        "            print(f\"{item} is not in the shopping cart.\")\n",
        "\n",
        "    def view_cart(self):\n",
        "        if self.items:\n",
        "            print(\"Items in the shopping cart:\")\n",
        "            for item in self.items:\n",
        "                print(item)\n",
        "        else:\n",
        "            print(\"The shopping cart is empty.\")\n",
        "\n",
        "    def clear_cart(self):\n",
        "        self.items = []\n",
        "        print(\"The shopping cart has been cleared.\")\n"
      ],
      "metadata": {
        "id": "sUqBkh1SC1RO"
      },
      "execution_count": 7,
      "outputs": []
    },
    {
      "cell_type": "code",
      "source": [
        "\n",
        "cart = ShoppingCart()\n",
        "\n",
        "\n",
        "cart.add_item(\"Shirt\")\n",
        "\n",
        "\n",
        "cart.add_item(\"Pants\")\n",
        "\n",
        "cart.view_cart()\n",
        "\n",
        "cart.remove_item(\"Shirt\")\n",
        "\n"
      ],
      "metadata": {
        "colab": {
          "base_uri": "https://localhost:8080/"
        },
        "id": "GFE5i3PJGoJc",
        "outputId": "cf081423-17e5-44be-942c-a50db840d4b6"
      },
      "execution_count": 8,
      "outputs": [
        {
          "output_type": "stream",
          "name": "stdout",
          "text": [
            "Shirt added to the shopping cart.\n",
            "Pants added to the shopping cart.\n",
            "Items in the shopping cart:\n",
            "Shirt\n",
            "Pants\n",
            "Shirt removed from the shopping cart.\n"
          ]
        }
      ]
    },
    {
      "cell_type": "code",
      "source": [
        "# 10. Imagine a school management system. You have to design the \"Student\" class using\n",
        "# OOP concepts.The “Student” class has the following attributes:\n",
        "# a. name: Represents the name of the student.\n",
        "# b. age: Represents the age of the student.\n",
        "# c. grade: Represents the grade or class of the student.\n",
        "# d. student_id: Represents the unique identifier for the student.\n",
        "# e. attendance: Represents the attendance record of the student.\n",
        "# The class should also include the following methods:\n",
        "# a. update_attendance(self, date, status): Updates the attendance record of the\n",
        "# student for a given date with the provided status (e.g., present or absent).\n",
        "# b. get_attendance(self): Returns the attendance record of the student.\n",
        "# c. get_average_attendance(self): Calculates and returns the average\n",
        "# attendance percentage of the student based on their attendance record."
      ],
      "metadata": {
        "id": "PWYD13FDGuZL"
      },
      "execution_count": null,
      "outputs": []
    },
    {
      "cell_type": "code",
      "source": [
        "class Student:\n",
        "    def __init__(self, name, age, grade, student_id):\n",
        "        self.name = name\n",
        "        self.age = age\n",
        "        self.grade = grade\n",
        "        self.student_id = student_id\n",
        "        self.attendance = {}\n",
        "\n",
        "    def update_attendance(self, date, status):\n",
        "        self.attendance[date] = status\n",
        "\n",
        "    def get_attendance(self):\n",
        "        return self.attendance\n",
        "\n",
        "    def get_average_attendance(self):\n",
        "        total_days = len(self.attendance)\n",
        "        present_days = sum(value == 'present' for value in self.attendance.values())\n",
        "        if total_days == 0:\n",
        "            return 0\n",
        "        else:\n",
        "            attendance_percentage = (present_days / total_days) * 100\n",
        "            return attendance_percentage\n"
      ],
      "metadata": {
        "id": "NykhFfCFHDpv"
      },
      "execution_count": 9,
      "outputs": []
    },
    {
      "cell_type": "code",
      "source": [
        "# Create a student object\n",
        "student1 = Student(\"John Doe\", 15, \"Grade 10\", \"S001\")\n",
        "\n",
        "# Update attendance\n",
        "student1.update_attendance(\"2023-07-01\", \"present\")\n",
        "student1.update_attendance(\"2023-07-02\", \"absent\")\n",
        "student1.update_attendance(\"2023-07-03\", \"present\")\n",
        "student1.update_attendance(\"2023-07-04\", \"present\")\n",
        "\n"
      ],
      "metadata": {
        "id": "sSqaYncjHEgC"
      },
      "execution_count": 10,
      "outputs": []
    },
    {
      "cell_type": "code",
      "source": [
        "attendance_record = student1.get_attendance()\n",
        "print(attendance_record)\n",
        "\n",
        "\n",
        "average_attendance = student1.get_average_attendance()\n",
        "print(f\"Average Attendance: {average_attendance:.2f}%\")"
      ],
      "metadata": {
        "colab": {
          "base_uri": "https://localhost:8080/"
        },
        "id": "5elZ_zicHbtd",
        "outputId": "19606ea3-dd3b-4b88-c6b7-fe7fc025fbb3"
      },
      "execution_count": 11,
      "outputs": [
        {
          "output_type": "stream",
          "name": "stdout",
          "text": [
            "{'2023-07-01': 'present', '2023-07-02': 'absent', '2023-07-03': 'present', '2023-07-04': 'present'}\n",
            "Average Attendance: 75.00%\n"
          ]
        }
      ]
    },
    {
      "cell_type": "code",
      "source": [],
      "metadata": {
        "id": "4ZUx2IOzHkpl"
      },
      "execution_count": null,
      "outputs": []
    }
  ]
}